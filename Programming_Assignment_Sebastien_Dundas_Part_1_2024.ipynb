{
  "cells": [
    {
      "cell_type": "markdown",
      "metadata": {
        "id": "0DBZnR5yD5VM"
      },
      "source": [
        "# Programming Assignment - Part 1"
      ]
    },
    {
      "cell_type": "markdown",
      "metadata": {
        "id": "nlF-00F_Rdt2"
      },
      "source": [
        "## Assignment Information"
      ]
    },
    {
      "cell_type": "markdown",
      "metadata": {
        "id": "ncAUSYpShmtH"
      },
      "source": [
        "### Assessment\n",
        "\n",
        "This part of the assignment is worth **15%** of your final mark for this subject"
      ]
    },
    {
      "cell_type": "markdown",
      "metadata": {
        "id": "MAvbihdNhw1M"
      },
      "source": [
        "### Deadline\n",
        "\n",
        "This due date for this part of the assignment is: **28th April 2024 by 11:59PM AEST**\n",
        "\n",
        "Submission after the deadline will incur a penalty of 5% of the final assignment mark per day.  If you have encountered difficulties that lead to late submission or no submission, you should apply for special consideration.  No assignment is accepted after 4 days’ delay.\n"
      ]
    },
    {
      "cell_type": "markdown",
      "metadata": {
        "id": "glZyxD9wEI78"
      },
      "source": [
        "### Submission Instructions\n",
        "\n",
        "The submission for this assignment is the `.ipynb` notebook file along with a `.pdf` report.\n",
        "\n",
        "For the `.ipynb` notebook file, you should export it and upload it via the link on LMS. Do not submit your solutions in any other format as they will not be graded.\n",
        "\n",
        "For the `.pdf` file, you should upload it to the same link on LMS."
      ]
    },
    {
      "cell_type": "markdown",
      "metadata": {
        "id": "4FEYKpPFRZMo"
      },
      "source": [
        "### Plagiarism\n",
        "\n",
        "**This is an individual assignment, and the solutions that you submit for all of the tasks must be your own. Copying solutions from other students, relatives, friends, or strangers on the internet is plagiarism and treated as [academic misconduct](https://www.latrobe.edu.au/students/admin/academic-integrity) by La Trobe University. Plagiarism includes copying solutions and making superficial changes to the code (such as renaming variables or editing comments). The penalty for academic misconduct can be as serious as expulsion from the university.**"
      ]
    },
    {
      "cell_type": "markdown",
      "metadata": {
        "id": "wlIMpTyxR8K1"
      },
      "source": [
        "### Restrictions\n",
        "\n",
        "In this assignment you will need to implement two of your own sorting functions.\n",
        "\n",
        "You are **NOT** allowed to use any of the builtin sorting functions/methods in Python (e.g. `sorted()` or `.sort()`).\n",
        "\n",
        "Using any builtin sorting functions/methods will result in 0 marks for that section."
      ]
    },
    {
      "cell_type": "markdown",
      "metadata": {
        "id": "C3a5HbgYHXok"
      },
      "source": [
        "## Assignment Brief\n",
        "\n",
        "In many situations, we may need to find a **word** based on one or more letters in it. For example, when making or completing a crossword you may want to find a word that has 4 letters, starts with *J* and ends with *A*. In this assignment, the program you will write will create a lexicon of words from various text files.\n",
        "\n",
        "A **word** is a sequence of letters. Words will be treated in a case-insensitive manner. A simple option is to store all the words in lower case. Initially, a word is obtained as a sequence of characters separated by whitespace characters. Then numbers and punctuation characters, if any, must be removed. More specifically:\n",
        "* If the word \"and\" occurs twice in the file, it is only stored once in the lexicon.\n",
        "* If the word \"you\" also occurs as \"YOU\", only one version is stored.\n",
        "* Punctuation, such as commas, quotes, hyphens, full stops and question marks, are removed.\n",
        "* Numeric characters are removed.\n",
        "* If the word \"don't\" or the word \"second-hand\" appears in the input texts, they will be stored without punctuation (i.e. \"dont\" and \"secondhand\" respectively).\n",
        "* The 'word' \"1\", for example, will be ignored as it contains all numeric characters.\n",
        "\n",
        "For each word, we also keep the following information:\n",
        "* The frequency: How many times the word appears in the input files.\n",
        "* The list of neighbours: A **neighbour** of a word *w* is a word that is of the same length and differs from *w* by only one letter. For example, if the word *w* refers to \"cat\", then:\n",
        "    * \"cathy\" is not *w*'s neighbour, for they are not of the same length.\n",
        "    * \"man\" is not *w*'s neighbour, for they differ by more than one letter.\n",
        "    * \"can\" is a neighbour of *w*\n",
        "    * \"fat\" is a neighbour of *w*\n",
        "    * \"cot\" is a neighbour of *w*.\n",
        "\n",
        "To simplify the design of this program, this assignment is broken up into a series of tasks for you to complete. By the end of this assignment, you will build up code to:\n",
        "* Load data from two text files and construct a lexicon\n",
        "* Sort the lexicon (implementing two different sorting algorithms)\n",
        "* Write the sorted lexicon data to a text file\n",
        "\n",
        "Once you have completed this assignment, you will also need to write a brief report describing the sorting algorithms you selected."
      ]
    },
    {
      "cell_type": "markdown",
      "metadata": {
        "id": "6TC04REZA1Mq"
      },
      "source": [
        "## Downloading the Dataset\n",
        "\n",
        "In this assignment, you will be loading data from two text files to construct your lexicon. Run the code cell below to download these files to your Google Colaboratory session. Once downloaded, you can inspect the contents of the files in the 'Files' tab."
      ]
    },
    {
      "cell_type": "code",
      "execution_count": 1,
      "metadata": {
        "colab": {
          "base_uri": "https://localhost:8080/"
        },
        "id": "QsdyHDwjBICb",
        "outputId": "257ab7fc-d05f-4017-b40a-79b5995cba99"
      },
      "outputs": [
        {
          "output_type": "stream",
          "name": "stdout",
          "text": [
            "--2024-04-28 16:36:08--  https://drive.google.com/uc?export=download&id=1q2SCMtSmSK-5cGMOdLqDg_qyIRmhNWSb\n",
            "Resolving drive.google.com (drive.google.com)... 74.125.199.139, 74.125.199.102, 74.125.199.138, ...\n",
            "Connecting to drive.google.com (drive.google.com)|74.125.199.139|:443... connected.\n",
            "HTTP request sent, awaiting response... 303 See Other\n",
            "Location: https://drive.usercontent.google.com/download?id=1q2SCMtSmSK-5cGMOdLqDg_qyIRmhNWSb&export=download [following]\n",
            "--2024-04-28 16:36:08--  https://drive.usercontent.google.com/download?id=1q2SCMtSmSK-5cGMOdLqDg_qyIRmhNWSb&export=download\n",
            "Resolving drive.usercontent.google.com (drive.usercontent.google.com)... 74.125.142.132, 2607:f8b0:400e:c08::84\n",
            "Connecting to drive.usercontent.google.com (drive.usercontent.google.com)|74.125.142.132|:443... connected.\n",
            "HTTP request sent, awaiting response... 200 OK\n",
            "Length: 886 [application/octet-stream]\n",
            "Saving to: ‘in1.txt’\n",
            "\n",
            "in1.txt             100%[===================>]     886  --.-KB/s    in 0s      \n",
            "\n",
            "2024-04-28 16:36:09 (57.6 MB/s) - ‘in1.txt’ saved [886/886]\n",
            "\n",
            "--2024-04-28 16:36:09--  https://drive.google.com/uc?export=download&id=1QSMMFcQ5ruXkHbOVicZKkHIv4kKusooG\n",
            "Resolving drive.google.com (drive.google.com)... 74.125.199.139, 74.125.199.102, 74.125.199.138, ...\n",
            "Connecting to drive.google.com (drive.google.com)|74.125.199.139|:443... connected.\n",
            "HTTP request sent, awaiting response... 303 See Other\n",
            "Location: https://drive.usercontent.google.com/download?id=1QSMMFcQ5ruXkHbOVicZKkHIv4kKusooG&export=download [following]\n",
            "--2024-04-28 16:36:09--  https://drive.usercontent.google.com/download?id=1QSMMFcQ5ruXkHbOVicZKkHIv4kKusooG&export=download\n",
            "Resolving drive.usercontent.google.com (drive.usercontent.google.com)... 74.125.142.132, 2607:f8b0:400e:c08::84\n",
            "Connecting to drive.usercontent.google.com (drive.usercontent.google.com)|74.125.142.132|:443... connected.\n",
            "HTTP request sent, awaiting response... 200 OK\n",
            "Length: 189 [application/octet-stream]\n",
            "Saving to: ‘in2.txt’\n",
            "\n",
            "in2.txt             100%[===================>]     189  --.-KB/s    in 0s      \n",
            "\n",
            "2024-04-28 16:36:09 (12.6 MB/s) - ‘in2.txt’ saved [189/189]\n",
            "\n"
          ]
        }
      ],
      "source": [
        "!wget 'https://drive.google.com/uc?export=download&id=1q2SCMtSmSK-5cGMOdLqDg_qyIRmhNWSb' -O in1.txt\n",
        "\n",
        "!wget 'https://drive.google.com/uc?export=download&id=1QSMMFcQ5ruXkHbOVicZKkHIv4kKusooG' -O in2.txt"
      ]
    },
    {
      "cell_type": "markdown",
      "metadata": {
        "id": "5BqbiechBAvN"
      },
      "source": [
        "If you come back to this notebook at a later stage, you will need to download the data again."
      ]
    },
    {
      "cell_type": "markdown",
      "metadata": {
        "id": "pKi7ZhU3vjEE"
      },
      "source": [
        "## Programming Tasks (80 Marks)"
      ]
    },
    {
      "cell_type": "markdown",
      "metadata": {
        "id": "zxjEp36yFrbe"
      },
      "source": [
        "### Task 1 - Creating a Word Class (16 Marks)"
      ]
    },
    {
      "cell_type": "markdown",
      "metadata": {
        "id": "mbPdhQAThBK6"
      },
      "source": []
    },
    {
      "cell_type": "markdown",
      "metadata": {
        "id": "R7CkYwrWWSfD"
      },
      "source": [
        "#### Instructions\n",
        "\n",
        "From the assignment brief, along with the spelling of the word, a word in your lexicon needs to store the following information:\n",
        "* The frequency: How many times the word appears in the input files.\n",
        "* The list of neighbours: A **neighbour** of a word *w* is a word that is of the same length and differs from *w* by only one letter.\n",
        "\n",
        "The best way this can be implemented is as a `Word` class, where you can populate your lexicon with `Word` objects.\n",
        "\n",
        "Your task in this section is to create a class `Word` that is used to represent a `Word` in your lexicon.\n",
        "\n",
        "When you do this, you will need to:\n",
        "* Think about what instance variables should be defined (and how they should be initialized)\n",
        "* Think about what methods you need to implement for this class\n",
        "    * In a future task, you will need to sort your lexicon full of `Word` objects. In the labs you saw a similar example where you needed to sort a collection of `Person` objects. It may be useful to refer back to this to see what methods were required.\n",
        "\n",
        "You may find that once you attempt the following tasks, you need to come back to this class and add additional methods."
      ]
    },
    {
      "cell_type": "markdown",
      "metadata": {
        "id": "Wdu3gteVGNRp"
      },
      "source": [
        "#### Your Solution"
      ]
    },
    {
      "cell_type": "code",
      "execution_count": 2,
      "metadata": {
        "id": "whCru7cBGFD4"
      },
      "outputs": [],
      "source": [
        "# Step 1. Write your solution here\n",
        "class Word:\n",
        "  def __init__(self, word):\n",
        "    self.word = word\n",
        "    self.frequency = 1\n",
        "    self.neighbours = []\n",
        "\n",
        "  def __str__(self):\n",
        "        return f\"Word: {self.word} Frequency: {self.frequency}\"\n",
        "\n",
        "  def getWord(self):\n",
        "    return self.word\n",
        "\n",
        "  def getFrequency(self):\n",
        "    return self.frequency\n",
        "\n",
        "  def increaseFrequency(self, add=1):\n",
        "    self.frequency += add\n",
        "\n",
        "  def getNeighbours(self):\n",
        "    return self.neighbours"
      ]
    },
    {
      "cell_type": "markdown",
      "metadata": {
        "id": "xxPyqbbdGufn"
      },
      "source": [
        "### Task 2 - Constructing a Lexicon (20 Marks)"
      ]
    },
    {
      "cell_type": "markdown",
      "metadata": {
        "id": "jpp3-dlSbyba"
      },
      "source": [
        "#### Instructions\n",
        "\n",
        "This task involves creating a lexicon that can store your collection of `Word` objects, and populating it with words loaded from two text files (`in1.txt` and `in2.txt`).\n",
        "\n",
        "More details on each of these steps is provided below, however in short, for this task you should:\n",
        "1. Create and initialize a variable that represents your lexicon.\n",
        "2. Define a function `read_data()` that can read words from a text file into your lexicon (Keeping in mind the constraints from the assignment brief).\n",
        "3. Call the `read_data()` function to load all words from the text files `in1.txt` and `in2.txt` into your lexicon.\n",
        "\n",
        "<br/>\n",
        "\n",
        "**Step 1:**  \n",
        "It is up to you to decide on how you want to represent your lexicon. It may be useful to refer back to the labs to see how we represented collections of `Person` objects for the sorting algorithms that you implemented.\n",
        "\n",
        "**Step 2:**  \n",
        "In this step you should define a function `read_data()` that reads words from a text file into your lexicon.\n",
        "\n",
        "This function should take two arguments, the lexicon that words should be loaded into, and the name of the file to load.\n",
        "\n",
        "From the assignment brief, the criteria for a word is:\n",
        "* A word is obtained as a sequence of characters separated by whitespace\n",
        "* Words should be stored in lowercase\n",
        "* Any numbers or punctuation characters should be removed\n",
        "* Unique words should only be stored once in the lexicon (You can use the frequency of the word to show that a word appears twice in the files)\n",
        "\n",
        "***Hint:***  \n",
        "Below is an example of how you can remove all punctiation and numeric characters from a string:\n",
        "```python\n",
        "my_str = 'H1-ell.0o'\n",
        "\n",
        "# Remove all punctuation and numeric characters\n",
        "my_str = ''.join([ch for ch in my_str if ch.isalpha()])\n",
        "\n",
        "print(my_str)\n",
        ">>> Hello\n",
        "```\n",
        "\n",
        "Do not be concerned with initializing the neighbours per-word. This will be done in Task 4.\n",
        "\n",
        "**Step 3.**  \n",
        "In this step, you should make two calls to your `read_data()` function to load both `in1.txt` and `in2.txt` into your lexicon. When calling these functions, you can hardcode the names of these files."
      ]
    },
    {
      "cell_type": "markdown",
      "metadata": {
        "id": "1ijMCuDaJuCn"
      },
      "source": [
        "#### Your Solution"
      ]
    },
    {
      "cell_type": "code",
      "execution_count": 3,
      "metadata": {
        "colab": {
          "base_uri": "https://localhost:8080/"
        },
        "id": "Tb-VwyfhJvYt",
        "outputId": "fac5d4b7-88c5-4067-ee8a-26e3f78fd788"
      },
      "outputs": [
        {
          "output_type": "stream",
          "name": "stdout",
          "text": [
            "Word: pride Frequency: 1\n",
            "Word: and Frequency: 6\n",
            "Word: prejudice Frequency: 1\n",
            "Word: by Frequency: 1\n",
            "Word: jane Frequency: 1\n",
            "Word: austen Frequency: 1\n",
            "Word: chapter Frequency: 1\n",
            "Word:  Frequency: 1\n",
            "Word: it Frequency: 5\n",
            "Word: is Frequency: 5\n",
            "Word: a Frequency: 11\n",
            "Word: truth Frequency: 2\n",
            "Word: universally Frequency: 1\n",
            "Word: acknowledged Frequency: 1\n",
            "Word: that Frequency: 4\n",
            "Word: single Frequency: 1\n",
            "Word: man Frequency: 2\n",
            "Word: in Frequency: 3\n",
            "Word: possession Frequency: 1\n",
            "Word: of Frequency: 6\n",
            "Word: good Frequency: 1\n",
            "Word: fortune Frequency: 1\n",
            "Word: must Frequency: 1\n",
            "Word: be Frequency: 2\n",
            "Word: want Frequency: 3\n",
            "Word: wife Frequency: 2\n",
            "Word: however Frequency: 1\n",
            "Word: little Frequency: 1\n",
            "Word: known Frequency: 1\n",
            "Word: the Frequency: 5\n",
            "Word: feelings Frequency: 1\n",
            "Word: or Frequency: 2\n",
            "Word: views Frequency: 1\n",
            "Word: such Frequency: 1\n",
            "Word: may Frequency: 1\n",
            "Word: on Frequency: 2\n",
            "Word: his Frequency: 3\n",
            "Word: first Frequency: 1\n",
            "Word: entering Frequency: 1\n",
            "Word: neighbourhood Frequency: 1\n",
            "Word: this Frequency: 2\n",
            "Word: so Frequency: 1\n",
            "Word: well Frequency: 1\n",
            "Word: fixed Frequency: 1\n",
            "Word: minds Frequency: 1\n",
            "Word: surrounding Frequency: 1\n",
            "Word: families Frequency: 1\n",
            "Word: he Frequency: 2\n",
            "Word: considered Frequency: 1\n",
            "Word: rightful Frequency: 1\n",
            "Word: property Frequency: 1\n",
            "Word: some Frequency: 1\n",
            "Word: one Frequency: 2\n",
            "Word: other Frequency: 1\n",
            "Word: their Frequency: 1\n",
            "Word: daughters Frequency: 1\n",
            "Word: my Frequency: 1\n",
            "Word: dear Frequency: 1\n",
            "Word: mr Frequency: 3\n",
            "Word: bennet Frequency: 3\n",
            "Word: said Frequency: 1\n",
            "Word: lady Frequency: 1\n",
            "Word: to Frequency: 4\n",
            "Word: him Frequency: 1\n",
            "Word: day Frequency: 1\n",
            "Word: have Frequency: 2\n",
            "Word: you Frequency: 5\n",
            "Word: heard Frequency: 1\n",
            "Word: netherfield Frequency: 1\n",
            "Word: park Frequency: 1\n",
            "Word: let Frequency: 1\n",
            "Word: at Frequency: 2\n",
            "Word: last Frequency: 1\n",
            "Word: replied Frequency: 1\n",
            "Word: had Frequency: 1\n",
            "Word: not Frequency: 2\n",
            "Word: but Frequency: 1\n",
            "Word: returned Frequency: 1\n",
            "Word: she Frequency: 2\n",
            "Word: for Frequency: 1\n",
            "Word: mrs Frequency: 1\n",
            "Word: long Frequency: 1\n",
            "Word: has Frequency: 2\n",
            "Word: just Frequency: 1\n",
            "Word: been Frequency: 1\n",
            "Word: here Frequency: 1\n",
            "Word: told Frequency: 1\n",
            "Word: me Frequency: 2\n",
            "Word: all Frequency: 1\n",
            "Word: about Frequency: 1\n",
            "Word: made Frequency: 1\n",
            "Word: no Frequency: 2\n",
            "Word: answer Frequency: 1\n",
            "Word: do Frequency: 1\n",
            "Word: know Frequency: 1\n",
            "Word: who Frequency: 1\n",
            "Word: taken Frequency: 1\n",
            "Word: cried Frequency: 1\n",
            "Word: impatiently Frequency: 1\n",
            "Word: tell Frequency: 1\n",
            "Word: i Frequency: 1\n",
            "Word: objection Frequency: 1\n",
            "Word: hearing Frequency: 1\n",
            "Word: was Frequency: 1\n",
            "Word: invitation Frequency: 1\n",
            "Word: enough Frequency: 1\n",
            "Word: can Frequency: 1\n",
            "Word: see Frequency: 1\n",
            "Word: zebras Frequency: 2\n",
            "Word: yaks Frequency: 2\n",
            "Word: zoo Frequency: 1\n",
            "Word: yes Frequency: 1\n",
            "Word: wombats Frequency: 1\n",
            "Word: too Frequency: 1\n",
            "Word: will Frequency: 1\n",
            "Word: also Frequency: 1\n",
            "Word: meet Frequency: 1\n",
            "Word: fat Frequency: 1\n",
            "Word: cat Frequency: 1\n",
            "Word: wearing Frequency: 1\n",
            "Word: hat Frequency: 1\n",
            "Word: sitting Frequency: 1\n",
            "Word: mat Frequency: 1\n",
            "Word: reading Frequency: 1\n",
            "Word: map Frequency: 1\n",
            "Word: while Frequency: 1\n",
            "Word: drinking Frequency: 1\n",
            "Word: from Frequency: 1\n",
            "Word: cup Frequency: 1\n"
          ]
        }
      ],
      "source": [
        "# Step 1. Write your solution here\n",
        "lexicon = []\n",
        "# Step 2. Write your solution here\n",
        "def read_data(lexicon, filename):\n",
        "  with open(filename, \"r\") as file:\n",
        "\n",
        "    def searchWord(lexicon, word):\n",
        "      for w in lexicon:\n",
        "        if w.word == word:\n",
        "          return w\n",
        "\n",
        "    for line in file:\n",
        "      words = line.split()\n",
        "      for i in words:\n",
        "        simplifiedWord = ''.join([ch for ch in i if ch.isalpha()]).lower()\n",
        "        w = searchWord(lexicon, simplifiedWord)\n",
        "        if w: # if it finds the word\n",
        "          w.increaseFrequency()\n",
        "        else:\n",
        "          lexicon.append(Word(simplifiedWord))\n",
        "\n",
        "\n",
        "# Step 3. Write your solution here\n",
        "read_data(lexicon, \"in1.txt\")\n",
        "read_data(lexicon, \"in2.txt\")\n",
        "\n",
        "# Testing\n",
        "for Word in (lexicon):\n",
        "  print(Word)\n"
      ]
    },
    {
      "cell_type": "markdown",
      "metadata": {
        "id": "r3Mmnm6QH046"
      },
      "source": [
        "### Task 3 - Defining Your Sorting Algorithms (10 Marks)"
      ]
    },
    {
      "cell_type": "markdown",
      "metadata": {
        "id": "PDZWopdHjWMj"
      },
      "source": [
        "#### Instructions\n",
        "\n",
        "In this task, you should define **two** sorting algorithms that you can use to sort your lexicon of words. In the next task you will write a short program to use one of the sorting algorithms to sort your lexicon. Following sorting, words in your lexicon should be sorted in alphabetical order.\n",
        "\n",
        "It is entirely up to you which two sorting algorithms you include, as long as they are in the subject and different regarding **time complexity**.\n",
        "\n",
        "You should write one function per-sorting algorithm. Each of these functions should take a single parameter, the lexicon to be sorted. They should sort the lexicon in-place, so they do not need to return anything."
      ]
    },
    {
      "cell_type": "markdown",
      "metadata": {
        "id": "8DNbROi2H_Xj"
      },
      "source": [
        "#### Your Solution"
      ]
    },
    {
      "cell_type": "code",
      "execution_count": 4,
      "metadata": {
        "id": "A4Stgu-UH-wT"
      },
      "outputs": [],
      "source": [
        "# Write your first sorting algorithm here: Insertion Sort\n",
        "def insertionSort(list):\n",
        "  for i in range(1, len(list)):\n",
        "    insertElement(list, i)\n",
        "\n",
        "def insertElement(list, next):\n",
        "  current = list[next]\n",
        "  i = next\n",
        "  while True:\n",
        "    if i == 0:\n",
        "      list[0] = current\n",
        "      break\n",
        "    elif list[i - 1].word > current.word:\n",
        "      list[i] = list[i - 1]\n",
        "      i -= 1\n",
        "    else:\n",
        "      list[i] = current\n",
        "      break\n",
        "\n",
        "\n",
        "# Write your second sorting algorithm here: Quick Sort\n",
        "def quickSort(arr):\n",
        "  def sort(list, left, right):\n",
        "    if left >= right:\n",
        "      return\n",
        "    pivotIndex = partition(list, left, right)\n",
        "    sort(list, left, pivotIndex - 1)\n",
        "    sort(list, pivotIndex + 1, right)\n",
        "\n",
        "  def partition(list, left, right):\n",
        "    mid = (left + right) // 2\n",
        "    pivot = list[mid]\n",
        "\n",
        "    list[mid], list[right] = list[right], list[mid] # Swap pivot and last\n",
        "\n",
        "    storeValue = left\n",
        "    for i in range(left, right):\n",
        "      if list[i].word <= pivot.word:\n",
        "        list[i], list[storeValue] = list[storeValue], list[i]\n",
        "        storeValue += 1\n",
        "\n",
        "    # Swap pivot to the right spot\n",
        "    list[storeValue], list[right] = list[right], list[storeValue]\n",
        "    return storeValue\n",
        "\n",
        "    sort(arr, 0, len(arr) - 1)\n"
      ]
    },
    {
      "cell_type": "markdown",
      "metadata": {
        "id": "jFh-NeJanL74"
      },
      "source": [
        "#### Time Profiling\n",
        "\n",
        "In your report, you will need to include a section on the difference of your two sorting algorithms regarding time usage (in seconds).\n",
        "\n",
        "In the code cell below is some sample code that you could use if you want to include some experimental time profiling results of your algorithms on the provided data files.\n",
        "\n",
        "**IMPORTANT:** Before using this code cell, make sure you reconstruct your lexicon (Task 2), otherwise your lexicon may already be sorted.\n",
        "\n",
        "When time profiling your sorting algorithm, it is important that a copy of your lexicon is sorted (so that the lexicon is not sorted in place). To get more accurate time profiling, this code will time how long it takes for both the copy operation and sort operation, then report results for just the sort operation (by subtracting the time to copy the lexicon).\n",
        "\n",
        "To use this code cell:\n",
        "* Set `N_REPEATS` to the number of times you want to repeat your sorting algorithm for (A larger number will give a better average).\n",
        "* Replace `<YOUR_SORT_FUNCTION>` with the name of the sort function you want to profile.\n",
        "* Replace `<YOUR_LEXICON>` with the variable that represents your lexicon.\n"
      ]
    },
    {
      "cell_type": "code",
      "source": [],
      "metadata": {
        "id": "0solzPuRvKSU"
      },
      "execution_count": 4,
      "outputs": []
    },
    {
      "cell_type": "code",
      "execution_count": 5,
      "metadata": {
        "id": "QFekDwrZmEqH",
        "colab": {
          "base_uri": "https://localhost:8080/"
        },
        "outputId": "ca005641-5d09-48af-ad79-65b723b99f11"
      },
      "outputs": [
        {
          "output_type": "stream",
          "name": "stdout",
          "text": [
            "Average Sort Time: 0.0009635652520009898\n"
          ]
        }
      ],
      "source": [
        "import copy\n",
        "import timeit\n",
        "\n",
        "N_REPEATS = 1000\n",
        "\n",
        "sort_time = timeit.timeit(lambda: insertionSort(copy.deepcopy(lexicon)), globals=globals(), number=N_REPEATS)\n",
        "copy_time = timeit.timeit(lambda: copy.deepcopy(lexicon), globals=globals(), number=N_REPEATS)\n",
        "\n",
        "average_time = (sort_time - copy_time) / N_REPEATS\n",
        "print(f'Average Sort Time: {average_time}')"
      ]
    },
    {
      "cell_type": "markdown",
      "metadata": {
        "id": "OaQjVPnKlEat"
      },
      "source": [
        "### Task 4 - Sorting Your Lexicon (6 Marks)"
      ]
    },
    {
      "cell_type": "markdown",
      "metadata": {
        "id": "IZ2diYVPlIDH"
      },
      "source": [
        "#### Instructions\n",
        "\n",
        "Now you have two sorting algorithms defined, in this task you should create a small program that asks the user which sorting algorithm they would like to use, then sort the lexicon with that sorting algorithm.\n",
        "\n",
        "You should ensure that you test both sorting algorithms to see they give you the same result. When you do this, ensure that you reinitialize your lexicon (Run Task 2 again) to ensure that your lexicon is not already sorted."
      ]
    },
    {
      "cell_type": "markdown",
      "metadata": {
        "id": "CXfPJfcfkRDV"
      },
      "source": [
        "#### Example Runs\n",
        "\n",
        "You should replace the names of the sorting algorithms with the algorithms you have chosen.\n",
        "\n",
        "**Note**: You can assume the user input will always be either 1 or 2.  \n",
        "**Note**: You can hardcode the names of the sorting algorithms you selected.\n",
        "\n",
        "Run 1:\n",
        "```\n",
        "Select your sorting algorithm (1. Bubble Sort, 2. Selection Sort): 1\n",
        "Sorting with Bubble Sort\n",
        "```\n",
        "\n",
        "Run 2:\n",
        "```\n",
        "Select your sorting algorithm (1. Bubble Sort, 2. Selection Sort): 2\n",
        "Sorting with Selection Sort\n",
        "```"
      ]
    },
    {
      "cell_type": "markdown",
      "metadata": {
        "id": "-UNe3jdAlWrc"
      },
      "source": [
        "#### Your Solution"
      ]
    },
    {
      "cell_type": "code",
      "execution_count": 6,
      "metadata": {
        "id": "xD7mhl10lTWE",
        "colab": {
          "base_uri": "https://localhost:8080/"
        },
        "outputId": "ea93d5e6-31e5-462a-cd89-20c192f7768b"
      },
      "outputs": [
        {
          "output_type": "stream",
          "name": "stdout",
          "text": [
            "Select your sorting algorithm(1. Insertion Sort, 2. Quick Sort): 2\n",
            "Sorting with Quick Sort\n"
          ]
        }
      ],
      "source": [
        "# Write your solution here\n",
        "algo = int(input(\"Select your sorting algorithm(1. Insertion Sort, 2. Quick Sort): \"))\n",
        "if algo == 1:\n",
        "  sortedLexicon = insertionSort(lexicon)\n",
        "  print(\"Sorting with Insertion Sort\")\n",
        "elif algo == 2:\n",
        "  sortedLexicon = quickSort(lexicon)\n",
        "  print(\"Sorting with Quick Sort\")\n",
        "else:\n",
        "  print(\"Invalid input\")\n"
      ]
    },
    {
      "cell_type": "markdown",
      "metadata": {
        "id": "frSIfk6CpJlS"
      },
      "source": [
        "### Task 5 - Populating the Neighbours (10 Marks)"
      ]
    },
    {
      "cell_type": "markdown",
      "metadata": {
        "id": "AZpUGkVkpNqG"
      },
      "source": [
        "#### Instructions\n",
        "\n",
        "Each word in your lexicon should also store a list of neighbour words.\n",
        "\n",
        "From the assignment brief, a neighbour of a word *w* is a word that:\n",
        "* Is of the same length as *w* and,\n",
        "* Differs from *w* by only one letter.\n",
        "\n",
        "For example, if the word *w* refers to \"cat\", then:\n",
        "* \"cathy\" is not *w*'s neighbour, for they are not of the same length.\n",
        "* \"man\" is not *w*'s neighbour, for they differ by more than one letter.\n",
        "* \"can\" is a neighbour of *w*\n",
        "* \"fat\" is a neighbour of *w*\n",
        "* \"cot\" is a neighbour of *w*\n",
        "\n",
        "<br/>\n",
        "\n",
        "In this task, you should define a function `add_neighbours()` that takes one argument, your lexicon, and for every word in your lexicon, populates the list of neighbours that meet the criteria above.\n",
        "\n",
        "When adding neighbours, you should also ensure that the list of neighbours for each word is in sorted order.\n",
        "\n",
        "**REMINDER**: You are **NOT** allowed to use any of the builtin sorting functions/methods in Python (e.g. `sorted()` or `.sort()`).\n",
        "\n",
        "Once you have written this function, call it on your lexicon to populate the neighbours for each word in your lexicon."
      ]
    },
    {
      "cell_type": "markdown",
      "metadata": {
        "id": "GIZtgV-OqgqX"
      },
      "source": [
        "#### Your Solution"
      ]
    },
    {
      "cell_type": "code",
      "execution_count": 7,
      "metadata": {
        "id": "Kx8KgJFIk1qD"
      },
      "outputs": [],
      "source": [
        "# Write your add_neighbours() function here\n",
        "def add_neighbours(lexicon):\n",
        "  for a in lexicon: # get first and second words from the lexicon\n",
        "    for b in lexicon:\n",
        "      if a.word != b.word and len(a.word) == len(b.word):\n",
        "        letterDiff = 0\n",
        "\n",
        "        for i in range(len(a.word)): # iterate through letters in each word to check if they are the same, if they arent, add 1 to the counter\n",
        "          if a.word[i] != b.word[i]:\n",
        "            letterDiff += 1\n",
        "\n",
        "        if letterDiff <= 1:\n",
        "          a.neighbours.append(b.word)\n",
        "          neighbourSort(a.neighbours)\n",
        "          letterDiff = 0\n",
        "        else:\n",
        "          letterDiff = 0\n",
        "\n",
        "def neighbourSort(list): # exactly the same as the insertion, just modified to sort strings instead of word objects\n",
        "  for i in range(1, len(list)):\n",
        "    insertNeighbour(list, i)\n",
        "\n",
        "def insertNeighbour(list, next):\n",
        "  current = list[next]\n",
        "  i = next\n",
        "  while True:\n",
        "    if i == 0:\n",
        "      list[0] = current\n",
        "      break\n",
        "    elif list[i - 1] > current:\n",
        "      list[i] = list[i - 1]\n",
        "      i -= 1\n",
        "    else:\n",
        "      list[i] = current\n",
        "      break\n",
        "\n",
        "\n",
        "# Call your add_neighbours() function with your lexicon\n",
        "add_neighbours(lexicon)"
      ]
    },
    {
      "cell_type": "markdown",
      "metadata": {
        "id": "iRd4re8VIUcn"
      },
      "source": [
        "### Task 6 - Writing Your Lexicon to File (18 Marks)"
      ]
    },
    {
      "cell_type": "markdown",
      "metadata": {
        "id": "SbvTYR39rVkh"
      },
      "source": [
        "#### Instructions\n",
        "\n",
        "In this task you will write all words from your lexicon to the text file `out.txt`.\n",
        "\n",
        "To do this you should define a function `write_data()` that takes two arguments, the lexicon that stores all words, and the name of the file to write to. This function should then write all words in the lexicon to file.\n",
        "\n",
        "When writing to file:\n",
        "* The words must be written in sorted alphabetical order.\n",
        "* The information on each word, which is also written to the text file, includes the frequency and the list of its neighbours.\n",
        "* The list of neighbours must also be in alphabetical order.\n",
        "\n",
        "To output each word, first the spelling of the word is displayed, followed by the frequency, and then followed by the word's neighbours (in alphabetical order, inside a pair of square brackets).\n",
        "\n",
        "The format must be as shown in the example below, which is for some words from `in1.txt` and `in2.txt`:\n",
        "\n",
        "```\n",
        "a 11 [i]\n",
        "about 1 []\n",
        "acknowledged 1 []\n",
        "all 1 []\n",
        "also 1 []\n",
        "and 6 []\n",
        "answer 1 []\n",
        "at 2 [it]\n",
        "austen 1 []\n",
        "be 2 [by, he, me]\n",
        "been 1 []\n",
        "bennet 3 []\n",
        "but 1 []\n",
        "by 1 [be, my]\n",
        "can 1 [cat, man]\n",
        "cat 1 [can, fat, hat, mat]\n",
        "... (rest of output not shown)\n",
        "```\n",
        "\n",
        "**Note**: It is okay for the neighbours to have quotation marks around them, e.g.\n",
        "```\n",
        "a 11 ['i']\n",
        "about 1 []\n",
        "... (rest of output not shown)\n",
        "```\n",
        "\n",
        "**Steps**\n",
        "1. Define the function `write_data()` that takes two arguments, the lexicon that stores all words, and the name of the file to write to. This function should then write all words in the lexicon to file following the guidelines above.\n",
        "2. Call the `write_data()` function to write your lexicon to the file `out.txt`. You can hardcode the filename when calling the function.\n",
        "3. Open the `out.txt` file (You can find it in the `Files` tab) to verify that the output is as described above."
      ]
    },
    {
      "cell_type": "markdown",
      "metadata": {
        "id": "3jSuHrKuJSth"
      },
      "source": [
        "#### Your Solution\n",
        "\n"
      ]
    },
    {
      "cell_type": "code",
      "execution_count": 8,
      "metadata": {
        "id": "D2wibsl0JVKd"
      },
      "outputs": [],
      "source": [
        "# Step 1. Write your solution here\n",
        "def write_data(lexicon, file):\n",
        "  with open('out.txt', 'w') as file:\n",
        "    for line in lexicon:\n",
        "      file.write(line.getWord() + \" \" + str(line.getFrequency()) + \" \" + str(line.getNeighbours()) + \"\\n\")\n",
        "\n",
        "# Step 2. Write your solution here\n",
        "write_data(lexicon, \"out.txt\")\n",
        "\n"
      ]
    },
    {
      "cell_type": "markdown",
      "metadata": {
        "id": "ib6X-MThvk-G"
      },
      "source": [
        "## Report (20 Marks)\n",
        "\n",
        "Once you have finished the code for this assignment, you must write a report that describes the sorting algorithms you used.\n",
        "\n",
        "In this report, you must:\n",
        "* Describe which two sorting algorithms you selected, and the reason for your choice\n",
        "* Describe the difference between the two algorithms in terms of time complexity (i.e. Big-O) in the best, worst and average cases\n",
        "* Describe the difference of the two algorithms regarding time usage (i.e. how many seconds) for sorting the list of Word objects\n",
        "\n",
        "Please submit your report as a `.pdf` file."
      ]
    },
    {
      "cell_type": "markdown",
      "metadata": {
        "id": "WF7TKBjMuVSE"
      },
      "source": [
        "# Resetting the Notebook Runtime\n",
        "Due to the nature of notebooks, old variables, classes and functions may still be accessible even after they have been removed from the code. This may result in unexpected program behaviour.\n",
        "\n",
        "To ensure that this isn't the case, you can reset the runtime to reset the Python interpreter state. After doing so, you should run your solutions again to ensure they function correctly.\n",
        "\n",
        "To reset the runtime, click the \"Runtime\" button in the menu at the top, then click \"Restart runtime\". Then, click \"yes\" in the following warning.\n",
        "\n",
        "![Restart_runtime.png](data:image/png;base64,iVBORw0KGgoAAAANSUhEUgAAAREAAAGXCAIAAAAbH/McAAAAAXNSR0IB2cksfwAAAAlwSFlzAAALEwAACxMBAJqcGAAASLZJREFUeJztvXtYE9fe6O9f5/yxn32e57fP++6ze3m34laHqo3XQN8adVdw79eUnkq1x9hWKVRiBVMUQ0tMQcRWQItaUdwFaUXRgmmLUm+89YKigFJR0YhgpFzklnBJuI7hMr+1ZnKZhAlkVMKl38/D08JkZs2ayfrMd60V813jKIrqo+kdnTCVpwDAVYxDza6np6e7u9s4OkE1R/Vn5Bnumwn8LhiHml3Z6AddBTIHtAFcwLiuri7U5oa7Gs8Eqj+6CqQNijbDXRdg7DOura1tDDiDroIkSQg1gAsY19LSMgacQVfR2dmJxjbgDDDUjGtqahoDzqCr6OjogO4Z4ALG6XS6MeAMuor29nZwBnABY8cZNKQBZwAX4NgZbcYHbhPdTLw6Wxy4J6f+mU/Xekkmmqa82vXMBbFx6Ix692LrJVghoot5nuGqQvDK8uye51BXbcb7hCisiF2U7rivYKqy0PEx5DnpzPHKq8/h7DZ03T30+cZd5+tYmwxXDny64+cq/GvZDxGbv7lLDl5MZ9E3iu3HKn5Hj6qBnHmfEAZllWk0mkfqgkzluwJiyefqp7g1Jbu8pv0zzfTW1GV/96/n4J4NjuNM62MN5pHm+48Id9+0UvovTaXBiaZgw1h0pvPOt4pPw8LifmqwzpqAM84wsDPsd7c8WTzdPXqAt9YRNs4MBU70za5uJJ6l0Y9BZ4yF3yl3fJ95QLntdLVlIzjjDM47Q12SzfqD9AxJy7MwpcK0NV8pJNacoPoow4kAwuvTtMR1Yk/CjfCURP2i7WP3jv4/cVIF++3PCZsuXBObuM5b6E4Qc5cozzzSnIr0XUAQxDTR6t35LabyyZIT8uXzBe5TBItWRp+toDh4Kmda76Zs9MGnFnhKFD9oOgfcznam5mJ0wGKB+wRCsMAvBl8jLwZ1pvr8dsniGQQxXbQ0NKuM7sRab9q96MUvSRRf+qEd3CYJlwaryp62l9t2+8DnX5ys7ixM/nRHZpV566DOkBUFxxJiIhRh4Vv3Hil8bKSwM0mKrakXTx/eEakIU0QmnFC3mu5Jy4OzKTuiFWFhn21HO9cZ6Y01P8bJk88X/bg/BhUSEZecV81sp4zaW2l7onHJ8akXT+5X7DAFQGNtUTraWREesT3h5B2dqSLN909+g+uhiIhNtp6RVc+rx3bhU6PSvrOcorP2OiqKPiom+XxpJzqq6vT2zV9d0ZsOqzm3U7H3QhMurQNXHl/Rll1HLlZ0mHZoUp9IiHHeGd1xiYB+5xw68xHxNzev4EP598qLftwomvRXuh08MdyO8ZqG9ifx/bdxZoYb8XfliZsaTbEqfDFBoEawKetXjaYgQ/rGX0RRt+mTnpPOm+6374Kmqjz/2DrRK9bzsngKZ6pSVk4SrtiTU1ZdfeuE7L8mikL/29DneLvVmYa0DycJ13xbVPVYcyVeMufPklR+Hc2BnTHc2CKa+V/RZ+5VM/dkEd0ZtnFmPLEkPKeSJA1lacEeph3403odBYfjNb3MLypzlBjEmdab30ZExJ2887ipqarw+E7F9lQNiZ0J+/SzHUdyNY9rK379fvunm3+kmxNuf9uT835ram2qzjuyVRF/jnYAORMWFpVw+s5vDTWa04kRisTLuMUba07GbdqaePLuY23FvXMHtpk7jW13D30ReeB8SU2TTnM1ZStq33VMPcO3Jl2sqG+uKT2XsEV+4KqOXU9juWrr5rgfmXp+H6PY+j2qJx6/RW1OOHGnxtDWUHpql/KztPvIJe3JHehwA31c08W9YQk5qKjemnO7I3YcKfytoamm+Mc9n289fM+IKqPNS1Bu3vWDk860lqrWexDzwoo6B3RGGJhvMvJh3Jvm9sTum9k48yoRfJJknhA1R3xftXY/imLnE6tSUWPVJPsQK5K0pne0IWXli75J/aXh78yNKOFUa3eRxH++rapzvN3qDGq1L/iaPam+ckSVx9eZD7imJRhn9Crpy+KEB6ZdW9G9ojvDNs78yS/d8lREsvGfz8B05iV/tj3zEf617caBz6N+LGe2D+wMehUdZQ5KRs3J/YlXqk1x5oFpT9QEUbPDTbCzuaamyfSAZ0q7hffBztDtki6j+Ft0rAa9ZbiV78wzX1nT5T0K2pkG9Mvey+YwgioQtuu8zq6QptJrhQ8NNpfHrlJX1a38OzVP0MnaGmrqWUWZrrTmdIwiKQ/HnGakxFdXUKnGkrQoZXqZOQCiykemoNJqzn0VFpdZ0+vkvJnbBGJRgKknMIAz1idoVeI75vbt0JnpguBzFHMNOIjNijO//erd3rQqfdmfuLu5EVbcXhApCvrVlLcz2ozlNk9oc60cbWf3zTSZKNxN81oRFH3wtLqB61wDwppZMVOwSzydceamcgH7ctG1/w/ZGcfO4P3/KM3k3z1rQ43D4gntj4r2ZxBnHqVv3XToptGuMNvxTPPpXebWbGy89fPBXagrhAkLC0swOyM/cN30ZDWqjygiDj6wD3dU0zWmb9Z3Nw0fqTATFrZpK13VhgIUcz7fnnj45OVfawyUPV0VJ7+OUGz96tD3WYUljZYat1ZeS9u3c6upRqGmK609vSMy4VY71YpOynTMtNk7PmOdFVdhT147qkx4BA44Ts2bVWQp5hNLdmqYS3KhM1mySYI1RzVV1Vb0/ZvIUzjzvo0bref8ZjDOcG+3mwMgdQ+yf/hG6b9YIFgQfVVP8WHAvhly4P9Iku6xrrZK2zWAM3lyz6dxpulaYpgdUXTv5Xk601txIkYRn363ntYDh5GBnOl04Mwt1Ey/LWhoYtFpfvy31d3NP5v+LzTUiTtZ1kHZ09X06M6VrMO7olEvLh+bgCLqlojknPLWJ/hV65Wi2BgffuhmU16S2fba7B1KVCb7tAYjZXLG6TkANK7wGO+XTvdDcD/KM7GU2as3R/nqkDmDpxBsH/wk10TO0/XN6E4XU6qlS+Zou8WZ1htpO78zz090ZsvRtZu7l84xoDMNae/9TRh62VIgSfafA/h3icUZ/PB6ir4Z3cU6dqfBQuWVBCXTFRm0b8aeMKgv/Pnk3UZHzuCxAd2PwhjV30cM6AxVfnLr5j2WvlmDuW9Wc5rpDpnPid5h9N+2365kXdKYy7ibFqH4tsjIehca7pw+XWR+F1HQUG47XYvOla6ISDH3IVH1LM6gs+yMSDyYEEl3zBBd95I/D0++afGQOSvVYJohcHoOQHN4OSGU5jSjt/CmfL6bV+hP6ocl+T+Gi6f9dRBnsGMzZZl3q9Ezk6czqMsumYvO9X3Rw8eaggzZP4Vcn4c+7RzAKtNYX/5fqKWy5gD6b7c4Q95Uert5BaP6oB3Oyv9rghczV+E0A88BaM9vFL4yR5p8QVNVU3Rqi3jBu9nNds6gTvJHql+rqzVXE1cJiCVf8Z4DaL6yS7nlZDl7E+6ebT2Geh3OzAHspucA6m9l7o7YjscMDpwx3kJNOS6t8GFFxb3LybEolu0rbKccOkM/7Lcm/fLAbg6gGQUHeoKhvrnh0fW0r7Zit42V6XGfbT+SW1Hf1FR5K+0r89jMTNP1JEXErtO4nroHZ7+JiNhXqKejx2eKA+eLKyrKCjP3RHwaaj0Kdc9QZyz+XJNJvF7NiZiwiAS6hLq7P+/bmni5yTTg+fzQVefnzUi10vs/xDG4iWhzt/u+hnrb00UrlNEfD9Y3o1qyFIsF7ujPB7ydQQ+326my5R7ExAnEXG9Z8g0Dx0P9qeaadb8mBvkI8ZTxQkkUa66Zczurb0aWZyrfny9AV//qa76hR9WdFC8Gm2vu1vwUKVk4g3CbLFwkibtIB3bbeTNx6JdSH2auGfWc+Z2doh/hYf0+TmlFjWwregY7MddsmsP9fPvejFv1zFyzg/FMG54OVoTJI7b/6+Tln5N37qenvBw5Qxm1RemmueYjJ4/uVJg/bO1EgxC8Xa7YuvPQBXqC2DwBHYEqEvFFwpEreIhvQ8eDs4fpae7wiLgDp+8zI56emoLD5unj3IsZcTt+uGeOTlpUbUtUpE+gv/vzN9vxzmjUZLpSatC55tHD7+ffm9mNZ8YWrIFSxckY0xz0SAScGU08uzMqlcp+/D8CoPCT/uvtaVcfNjQ119w7lbBFQX/kMtz14gacGU2M5TjT+uhy2r6YiE9NfbCRGmQoiDMAwBdwBgD4Ac4AAD+wM6WlpaM3jybiwYMHDQ0Nra2tJEl2d3cPd3WAMQg7XSt2pqSkZHjFfUbu379fX1+v1+s7OjqQNq7K4An8jmCnax2n1WrHQN8MAFyAkU7XOhbGMwDgAsrM6VrBGQBwijJzutZxv/76KzgDAIOCNEGyFBcXj4U8mgDgAsrM6VqhbwYATlFmTtcKzgCAU5SZPzoHZwDAKcAZAOAHOAMA/ABnAIAf4AwA8AOcAQB+gDMAwA9wBgD4MTacwZnBmAydD+PefKrMxcCYovZYxKq91+yz4z4nXOIMa/GZCcTchRIF7wx6gwDOjHF6am9kxCs3BPp/GBjyafzR6zrTNyUfF5z+paSt//6DOWO8uTfQn8WH/tsvdPRR+ns/xSuDA/3XhEQfyH3s6HAXOePNLImBV6F5dFH5tptIcZlXduNBAGfGNPq8PUHBkccKH3cYuzvqfj34eYD8u1Kc+dJ4M37dBlV1/yPsndHlpcQfZyW0Rs6sW59aamtFY26s7JMDeegsbcUZUUHybzXcq7u52hkMXkxmaXJ1b5dqrXUZGbxxTQYSqfrwMmJFVGIInfd13ttxF+yzeGlz4/3+4UEQUwSL3k28Rr8KzoxlalURH247a12uxHg7KWTD/uLio/JgHCwCA9fEn2+hqo7L134eH785KFB5qt7emcrMzYF7rljTn5ucsTlNx+WdgdFZpghmLDm4SZp6j7M+LneGjjMTvKIKKMqRM8vd3P+uPFNJkh1FsT7WpTsYcLJzD+WFehSv1cnLCdF6nPIYnBnDdBbEr1t/rJTrJXacqT4u/2jd3vO/deDc/U/jjJ7tDKU7Fb06nrt35+rxDGKKb9TP1ViDAeLMYdOSZne2iGZKc9iJwEldtabeFDPxGhJvq5rBmTGNIXfbx5wdsH7OrI27aWoZZmcMqLsViKFHLfRv63H0sB/PbM5uoqi6i9s+/uRgYYPR2FWZs1/+0TA7Y4kzmug3J0pSGU8GcMbckbsTI5r1gY0zVLv6p0i/d7xFmBkEAc6MdXCcCT5WzvXSoM5Q3XrUrnUNN9PCAmNO1WrR79oOI3ecQT0X3Y1vt4UFBQaFbks+Er9x7cER0jfTZgYIRJ/Qq20iZ14S83XmRpTQc6Wq1LI4ITgz5uk3nrn3nTzsm5JeZ5wx4UzfzIa67Mj1Owo4ZuSoYZkDQKHmBV861BRFiwQr9qtbnhgeo0HOZGecIS8ECTyQMwaD9kH29rcId3Bm7EPPm0WfUjcgCTrq7qRu/Vj+3V163qx477q1B2/hJaCemzPGTt2DKweUayMzSo3cU7vDMW+GQ42HNAeFGt1F5bsexMQpgkWr5Gu9neubVWQplgndCbxy074v/RaLU0rBmTFPb+W1b2PDgq2fz5jWZnpSfFQZFOAXi6JQ1UDO2OPIGRRePl4TEv7lwfOlHQ4/Cxkb/w4AAFwHOAMA/ABnAIAf4AwA8AOcAQB+gDMAwA9wBgD4Ac4AAD/AGQDgBzgDAPwAZwCAH+AMAPADnAEAfoAzAMAPcAYA+IE0uX79+u3bt8EZAHAKpElhYSFegxacAQBnQJqgIFNSUjJanCnZ5TVrdXbP4DvSdOQnfSye/7qX4hz1HFMQAiOdoc49e//+/UePHo2W3LO8nMFfjfZKvFalNcC3nUc1Lso921F6di+dezZI/kVqXoODg5EmDx8+rK6uHi25Z/k4Q54NsE8pCIxCXJR71lhyYFNg7NnfOvp6dDeS5NLN2fWc1UGaVFRU1NfXj5bcs8iZaT7yze/h3GYCkTT5jsm91rspG33o3BpieUYpLif9fYE7TkEoEExTXkV7dGtOR0oWosOmi5auT7vLRJ48+fwZksAA0St/8ktHJ2rOiff3molK9pQomMSFwLDjotyzdAKNL3JbmT80qZv8D97irA/SpKqqqqGhYbTknkXOTJnml1So7TJqr28XT3OPLkRb9SrpHFHwD9VdlOF2smTOrDj6mWI4Y40z5I0topn/iLtaT1Lt6u8DhB5+2c0UdsbzL16hP2r0WCHN4WWCJSE59SSpuxa9dJKlbsBw4qrcs5Sx8lh4MI4zxh7drST5hh0FzZwVQpo8fvwY+TIOeTMacs/a9M36sj9x99p+h3p8xPdVJlcTvVE+RZzwgLJxBm2cJlTkmGcCqhLfYQILijNTlYWmKkQvfkl6xjTy0Wa+T6xI0kKoGXZclnuWojruHZV/xGxZtzeP2xi2M6Mk96zteKYoep4wNJu6HSWa7MbiRUYPljP6tA9fZMWNvqy1L9NesZ25JJvFLmQ8jIVGBC7LPWsoiA/ddLDwsREdVZq5beNnKs6TutyZZ849axtnsmR0nHmULJ69Iqvfc8E2zkwVKQrMr3DGGbXSe6L8AsywjTRclHvWWLg/UJFWaX5KFuz1j8zijG4ud+YZc8/S4xk383gm3nf2HHo8U5Wy8hWv0B80nWjgUpcdL2eG+P3GM+KUYj2eDPgpyDqesTrTUxTrLVganlOJjm3XnN4anQHjmRGBi3LPVmcq1oYfU+Nm0VF1JT404MCNdq7qDIMzz5Z7Fjnz2gdK5XuiVyYQgtdlh83zZrprceu88byZ4DXf0DQN/fkP2xlaFfa8GTMdx3aGwlMn29/D82bEVK/ViuzKIbkbAH9ck3u2p/bat9vQWQLXBIUo9551lH7WJc4AwBgCnAEAfoAzAMAPcAYA+AHOAAA/wBkA4Ac4AwD8AGcAgB/gDADwA5wBAH6AMwDAD3AGAPgBzgAAP8AZAOAHOAMA/ABnAIAf4AwA8GNUO9NHNtfXtpC8j+vubNE11NVpW54MQaWcwNjSUNPo4EuAgx6rNx/b1VJX19z5O0mp29fZVNvQMkTJZHniEmeeGOprzNTW1eua2548fT6XPrLd0P6kj/n1aZzp62qqq9O1Penu6R2mBgfOUFQP2dasra+rRQ2iTtvURjINgvXm2jKYMz1tjTW2aNsdtbG+7g5DK+lsyu/+uMqZWl0bXcm+HmNXS0NtXctTv9k9bboac2FP5Ux3u7ZW2/b0t+zZ+d070/dE31Bb39hKdvf29XaTbTrkTXs3ZfPm2h1h50wfqdc10YcwIGdqtQajU3ejr7Oxtt7w9DHLhc5YtO9ubajVtnZTve2NNdo203Ub0cbG9j6mSetaDE0N9DNI19LFuoM4RNTW0tGqrqmjj3amsUWvQ7vW1DU0tZnvWU+XHnW+amvx8R3dfTZVweXSBWgN2LbeJ+3NWnrXeta+fT2o+1ZPb9Y208XS0cnsZ2+bpebd6M1jHpcNOn2nqa69T9qaGkxHt5sq1d1F1xPt19isq+vnTP8zcl/IWHCmtwPdy6Yua9V7DDoU+dv7vbl1ukZdfW2Nrr23r8POGdzu9da+NeNMN2ULR1vq0tczDQD9Tb+DvcYOUwNo0JnC3RN9fa22sRHt2NBmXyQ1DM700nGmvgXdMUfO6GrQ6534EUSix1GD3vaJYBdnauoaW5/09KF421hX29TZSxelrWto7upGG8mWBtOtsULHmXamdfcw/TQSFdDTZdBiK/A7ic6LRjtoK9XzBL2duLYOnOlsRm9wO2rNvcZ2pEQzbgg97Y119XhjXw/Zio7Gb213B3q1EfVJ0XO1swV1Ve2c4Tgj94WMBWdIvc0zlIX9m1vf3I7aQR9HnHHSGa62xI4zvSTTUUc7GNvMJiNnavCb1dPHeXddPp5BAcH8yBwgzrSaHtik3vaBRDnum1naMer51DZ2mt6RnnadtTQGljP4VdY7gc+GWyHZUo/0M4ccY2dbB7qn3M7ghqvTd3Xj0/X2dPf0mft+5rcPSYXeqV6bE/Xvm3GdkftCxoIzXXr0eOPsmzrseFucwb5hmMExDT7AbjzzmPGHuy2xnOntYL8vT9C70NLFxJlGx3fWxXGmDzcX84N/AGfaWNfZ6KQz7cyTBjdu29GgXaRiOYNPqrOOFU23uK+rsbZObzen5qhvhuJLSyMazKKuXZOB7puhOtuev66lq7tVy3qy9nPG4Rn7X8hYcIaOM5xD9MGd6evpxqCoXovvK6and8C+Wb+2xHIGNQC7qQN8b0eWM/Tz0hw6+tpZ1/ncnKGfFs1djtuSfZzR28QZ/LS3LaHH2PUEdY9ILmd6u41GZgzUa+xETVyHyqVF7LBtEfh5ptWb39L+cYbrjNwXMhac6T+eaWtkep6DO2P52+nxzEDO4AaAh9a2jDRn2KEGXQV6rhtxHx8PcpxzBrVX1M7p+UhuZ/BjDI2ju3BbxlGgpX2A8UwnGgU1tht7cc8WjT3q6HEEXYJOjyfEe7vR20mPLroNWvSu4ZFPd5dBV/uYdobZSIeXHhJfFy63u02HhiHtuL+GRvb6ljZU2Z4OunC8Yy+JDuo/nul/Rs4LGQvOUH1P8Ji2ucOI+rJopIEHEsy8maM39/k6g6I66oPR7dEyzsRT0KShRY83jzhnLKGmF88ltWjpOa96XXNjvXPOoMtENxMN/dt7HTjDnoNCBXd22x3PcoaeN2uyzpuZ56v6uttbUCXRVjT6Ms1i9SJVcGVrUZlNDaa+WV8361Qt7aZTdZP6xgbz+U2Ho2tFO6I+XIOuSVfff96M44xcFzImnKHwLTI00lOY+NIsn884enOf4vMZPOXloC31dekbULfXNG9GmhpAreVzopHgDACMIcAZAOAHOAMA/ABnAIAf4AwA8AOcAQB+IE2+9BNERsaDMwDgFEiTousJX6+aBs4AgFMgTWoeX/5h/RxwBgCcgnYm/0TIa+AMADgFOAMA/ABnAIAf4AwA8AOcAQB+wGeaAMAPcAYA+AHOAAA/xq4z5Nkgwutz9dMn7AScovjQJyFJxXyP0p3/MjDmnH6gb5m2lfy0OzJMpvjupnOp/lyGS5xR717sNtGNZgIxd6FEcVTdOSQnYvM0ztTkpnz7SzV9iOHMOqH496hcR/nlgzs2BwX6+wfKIr/OLGlhNpOaa1m5FRxfLh7cGcN91b6oECkqcJ085sDFsnbKkTONubGyzdn19O/lR+XBESq1Vt+BTvq44PQvJW0D1To71t+WL3JbHe08aGkD4yJnvIlVqQZ8g54YHl1Uvu0mUlwmh/jh8TTOXA0Xzl9fxHx/vLU8v6hyqCs54qi7uG19cGzWLV270Wj47eL+sMCIH2vxPdRnx/jFnm/uf4S9M9Xn9yacqrTedt2p6I/k+y9VthiNHU0lv+wJCf4yt9lRnGmtvPsbs9FYuMd8avTHzfh1G1TV7D0fqnYn5jZY/sTORGY9diqhLEdpvHC1MxhNsg+xNLm6t0u19kXfpArrxjUZqI1WH15GrIhKDPERuk8g5r0dd0FvW1iP+qcNvp4EQUwXLQ1WlXXRG7urz2+XLJxBEFO9Vm/NoR9ULGc4XqXL+cx3wQxczoqN2ZWUOnm5wN3dzY0gBG8kltooZyhJly+fL3CfIpj3jvJEKS1Snny+SBaLi3VDxQanacZCROorORQS9NUFa1M2FMTLNqoeFh/YFIwCDwoUIfsLjH0lBz5Zv+3rHXLp6vjLT+ydKT0UsiGhxHI3jDf3rpOm3rO8rL34Xfypsh7sTESyKgEFtA8DQyKP3aZtbLy47ePN2U3IqJ1BUny+wKBPUs+hgEOfPHBNvEVaXOxGVbmlWMYZew/wWaIPndpnOUsLVWpfmrHq8sEvN6A/g8JRxXAMpKqPy9d+Hh+PjlKequ9/l1zuDB1nJnhFFVCUI2eWu7n/XXmmkiQ7imJ9iCU7bZpjebJ4+qLEYiRSc87WxcTSBNSVIu/EeM3ySSysp8j6rE0iwRqVts/a6DlfNeSGizzfSbuLy8mP8REs3YfPwoozVmdaL8lE0/ySbqD6a6/H+852jy7sws54vixck6JuIcnHJ6TzXpCd6RqSe+dS9Ke2fbjtbAPnS6w4g5xZLd9/tbYdP9YHcYZqv5kcEhRx4OJ9LTvTju78dv9ARWphg9FIlmQoA8OP4JBidgbRkTdgnHHWGa6zsEvrRI+DoPjzv3UYuypz9oSE7CsmaWc+WrcXb+SMW7Qz12Nf/98uGs8gpvhG/UyPGQaIM4e1zM26s0U0U5rDTh1bc8T31dfkmcXYQLJVq0WNvjdHOU2oyKGYtwRJNfvd7A5Lo+d8tS/7k6ki7C1N64Os7045csZwIoDtbVG0SBCaTfahODNVWchs61L5Wy9kNFOriuDugPVzZn1qqekFszOoDxaIYUYT9G/mRtyqyTkSv2VDYNDG2OQTxVrcEG36ZqVHQ4J3FTvnTMnRMOtp8C9rgnA5duOZD5hTc5+FVRo+iyLN3JPUpG5ae/AeE2fibjpcb4J25v7piAAXxRlN9JsTJalM8xrAGXNH7k6MaNYHNs6g6J6bKn/PWzhjtni1Mgv3zVCTdbOB+GdanaXRc76qT/uQq5VzOYMrtirDMrAxV8/WmbUviceCM87Hmf7OUB161IQaa6/tDwremYu7Lmj4blMEGiDlHvkyKGRHgd14Bg/3d+M26oQzxg4dpvZC7Mey1Nu1+HecCNVx36z/WVil1Z7dajtzsGrvDaNTzriyb6bNDBCIPsnHd9OmqTnrjO6RuooZ4TQV7Vom8JKre/uy5e5e22/bndTc6DlfRRtf8YqybGxUF5ShDpuzcSa4X5wZI87Q45k9udZOVGf+3tDP6C7Q4M6YsOubVV8+8K9s1pRA5bHw1fHXep7aGRPOj2cGdEZ/eWdgdJbObipicGfGYf6n6+YAUKh5wZcONbj9rdivbnlieIwGOZOdccZwYaPQY6WqFIWXbk060i8MNXE0OBF60CMWtMPt76PjfmaPZzhfZZXTUZT0nlBMW4G7giuy6IZhHc/ozknnuUvT8dDfcDtZMmea8io9nhmDzjDzZiF7z5fpn6An+uPcJMu8WcfFr/wVGeV0B5+PM3jAIN2WdoMe/HTV3vpOsXbjsXK+caZ477q1B2+1W8/yTM6wSsOTHCF46NKHwqD61JFMPAftTJwZ+vGMzbwZDjUe0hwUanQXle96EBOnCBatkq/1dq5v1lGUuk7sOYMgJguXfJDyKxNzLJNgaOPqxGtYD9bEF8eraGyq/n4DXc5Ur9WK7Ep6G3k3UYK2zIsrtps3y5D9X49+82Zj0Rn8+cz5A1+GBQX4+wexP5+hdDeS5FI/OgoN6Ew/jHWFx/ZtCQlCPZ81IeFfpObhGWF+zlBPio8qgwL8Yrn7jRTX5zP4cx7us9iW1lF+YW8UPW8WsvnA2VIcY0eCMwAwhgBnAIAf4AwA8AOcAQB+gDMAwA/zXPM4cAYAnGLsfn8GAIYGcAYA+AHOAAA/wBkA4Ac4AwD8AGcAgB/gDADwA5wBAH6AMwDAD3AGAPgBzgAAP5Am//3HgitJv412Z8iytNBlItFMWaZ+8J2BMQPrq52ugnYm7wRxd5TnnsUpOJYocsoaDPgrqRVZ/zpW1DLoQcDIw9h888d9kRuCA/3XBMm/SL1sTo3ZeOtU9i37ZBfU4M5UZiptv/Ns/lZ2Z33xpfS9WzYdZKVX6Sg9F680n7rQ0feoGWdORVaN8tyzOcrZIoU5Xxl5TjrTM7F0wAOAkciT4kNhgeEHcn9rMRo7dfcytq3/+EAhnexCfShowzcl/ZOV2jvz5GbajtRCa7aNyszNHEluy48r1odu+3pfZHDAgVvmxH/GkoOb1sSfR5Z26299Jw/ecpFbRdqZ/IsnGkZN7llKmxvv9w8PgpgiWPRu4jX0alfWJvSnmxvaIvTPvhzjNcsdBzTBVL90OplGyQk6c+xk4SJTzo3qw8uJRatlPh7EIvnvMIv5yAULsP4Y62GnOSoP2pNfeiaKTkXrHxikPPUbnRkjPH7vlqDATd9ptHbOdGTHfrjtF2taQ9qZCx12zhg7cOZ0qjI1nOVM6dGQDXQeTYzuVPTq+MvtFAfMeCbnrMucedbcszXHJXM9lBfqcTaZ5OWEyJSOLEfJyovJjjOteThzbGqxoa9dkx4kpPPd4FMIfBILG0iHuUWAYcB4LzkoeFcx55vCijM4o2zQ1lNlLTg1rH2ccc4Z84tsZ4yF+1k5NY25X3Mkf6JxkTPPL/csqavW1JvuKs7d/LaKvj+OnLHN6KdWeo9XXrVNBwWMGIyFiYEhXB0wys4ZVgYmszPG28lBUpuktIFBODOT7XhmtW1aKTtn9gQqjpizQ1EFe4fZmeeYe7Zd/VOk3zveIswMghjEGU3yWyxdEX+QnukGZ0YoajrOPJUzlNFAJ6WtVEX7R2aU0b+3GJ81znBOA7i8b/asuWdvRAk9mfyXTsUZbeb7zNoBbMCZEQoWgJ0dk9Ic3xKyn86FO6gzJp6+b2ZKgu7UeMbV6888U+5Z8kKQAOeMNRi0D7K3v0W4czpzSTpzmvIqPXmgO+knnC1Nx+sIkLrClMjd+S3gzIgFz5sFRSTffIwaa4/uQaZ13gw36B0F9OJkQ+UMnjcLjD2LZ7f1975TDDRv5vI1m54t92xFlmKZ0J0g5nrL9n3pt1icQscTG2eozpwYH4H7n5lOoOF2quwtep5N6C1LxsvIgDMjF2PzzYzdCrys0pqgcNbnM8ZK1fbgwEAchQZ0xh4ezlg+nwlcEyTfkpo3wOcz8G9nAIAH4AwA8AOcAQB+gDMAwA9wBgD4Ac4AAD8gxzkA8MMl6zYDwBgC+mYAwA+XrNsMAGMIGM8AAD/AGQDgBzgDAPwAZwCAH+AMAPDD3hkdAAADAus2AwA/4DNNAOAHOAMA/ABnAIAf4AwA8AOcAQB+gDMAwA9wBgD4Ac4AAD/AGQDgBzgDAPwAZwCAH2Nm3WYAcBEuWbcZAMYQLlm3GQBcAL24n2WhsqHDJes2azM4Fhuz2eH60cRzD4bk3GxqclO+/WWAagwlHUU/7c26Sy/PRj2M83WXZtqvRw3YYyg79c2X8uBA/8B18ui92WXMqmOk5lpWboWx/+6DOdORHevvH/QFs/CTdWvhnqCA97edtV1tpjpTsfaL3FbOclyyNuCgzuBFnYJPUEO9iNLVcOF80zrPLqchZeW/S+i119GbW33rqgaUGRhj5bGIj+Rf/7dG22HsaCo5syMk+Mtc3LD12TF+seebOY6wd+ahandirtUF2hn/D231QKUF+vuPZGdKdnm9FhAX5+81kyAEc/2SrpN9epXUQ+CO13MWLPo0Hzfo5px4ZgdPiYJZ4TlPPn+GJDBA9Mqf/NLbqg8vJxatlvl4EIs+VRfFiGZZFna+JJ05K66Y2d/Db9PHvt7zhYKZvqE/aHopdfJygTs6DSr2jcRSm+qRJSfky+cL3CcLF32Q8ituy9Xp75sX/WzJks0VrlFpkc+td1M2+tBLrInlGaUkY7juWtw6b3rjYim9iBq9NpttlX69JBPNINAlEtOFwSfJvodxb/5RmsnEHPpiPQiCmC0OTCxqobdx3KUheV9GMh2F+4NC2Oue605FS7edyj0QitdAQ5EnZH+Bsa/kwCfrt329Qy5dHX+5w94Z482969ircyJnAiJjdgSx90FurI+N3/bhyHZmyt8kCbnaLqP2fLho6j/T6vAO7DijObxMsCQkp54kddeil06iF3bOk3v+xSv0R40etzPkjJvAJ7GwgSS5GijjjOd/iGPoFtx6Uyl+0TeJ7vhxxpnWPJloml9qsaGvXZMeJGQWLaSqUlZOESfc1V4JF818W4UridyeIwr+obqLMtxOlsxhToR2e8VL8YsWbXx0QjpvovwC6aBK7DhjdUad7CNYtDG7sosiK7I2iQSrjgxwl35XaI6HBe7kXNOPHWeQM6vl+6/WtuOumhPO+MWe/fXgprUH7zFdu76SQ/KQpBvZO0e4M7NWZ5vbk8zDPboQ/8ZyRhO9+CXpmS7TgZnvEyuStL0obkxVFpovx37BTc44Y92fPjsqhNsZw4kAYslOjelGq5Xe45VX6V/Lk33nzPMSjfdLp1eWrjni+6ql7fZly5FRpeyFo3HFrhxRoTDFw5l77IuldCclgoUpFQ7v0u+KkkMhgXtQJOn/ip0z61PNvQaLMyVHwwIx/hj8y5ogvP4mvTzt2abKnzYH7aHXgu68ufcTJBUqkK8zQ/+ZJh9nLslmubEYTzfoZ3KGvBBEeH2uduCMJvktt4nsM/7B3Ii7smQz3OYyPTR0oijRZPZuLwoVl+mF16U5doGLhzPo1dnRxZYjzdUGZ0xx5srTOWPsoHNd1F6I/ViWersW/643MuOZyKwGvGzterwms/7yjqDoLF2fPpt332xkOYOe9KiH02VbwMDOfDCwM3j84zjO4FDGNT9BluwSz17i6z1dwvTrUEiZvSLLbuSJ48xblo2GR0VFVaSDKjmKMy/IrHHmuETgkQhxhoYez+xjjWf02V8Fx55vcMYZ89/9+2bImWr0QkHi2siMQtXWj/bmtaMCT41GZzTJPsSK5GrceHqKYr0FS8NzUBefatec3hqdUTGQM7g/I5CfQWObpqLvA4R/s4xnJuBhRh9FPj4nW/QiPShCgm0RzezX7nUn/YSzpeloPEORusKUyN35aCBOPozzRUOpMhJX+J9p+Gh66BL6g6YTvVqXHS9PwxPHVYkSd3FUrvlEk2Vn9A6qpFd9iIZYd+jRPGs8s9tHsOSz/Hq6zM3eAnQTHN+l3xd43ixAkXipEo1VjK2aX/aEBEddxA274+JX/oqMcnpE8nTOUMbSQyHSwMCQhBLs5Oh0hirP8HudIObK6Hmzuuzt7+EpI2Kq12pFdiU1kDNUjzp1nddMNzdipm/oBt9ZFmdmSNavE3vOIPB2lSmMkHcTJWjLvLhidu3QmD5V9pYHQUwRCL1l9NwXHpoviVAjPaje/K0iU1O2TJEJXvMNTcPyIGouRgcsFrijY71kh4vpWnFWidKe2SiaOkmw5rjBZt4MXSwzPzZbHEjrSoEzZgz3VfuiQqT+tp/PULobSXKpHz0mGdAZe6zOUFStKgKLR/8+Ip1xOTaOAcBzBZwBAH6AMwDAj7HpDAAMHeAMAPADnAEAfoAzAMCPZ/5u87hx8AM/Y/NnIGee5bvNw35h8AM/Q/QzoDPP8N3mAUsHgFHJ4M48y3ebwRlg7DG4M8/y/RlwBhh7OOnMypUrwRkAwDjpzL1798AZAMBA3wwA+DGYM8/2mSY4A4w9wBkA4Ac4A/wueI65Z4ffGfXuxebcLhOIuQsliqPqTl4nYSduHYr9B4GdGjc/+nWRImfIU34ClKPcs5S+9NKpX6v77z6oM5WZSn//tQdv2eatbby47eMP/W1z3IwEZ7yJVcw3+J8YHl1Uvu0mUlzmkxuSnbRlKPYfBHbKQvJxfv7D52Yj4BCHuWepyuNhnKnPBss9yzjjZ0puZrNxRDuDwVlmltJZKTjSzNKpKj5aLHCfQAgW+MXkarvsErdSVM1Z5fvzBTjdq5fsMJPJpS9r7d9Eqz/29ZwkCPla9rrt/iZY+4RmU7cdJUYTyWK3SxbOcCOmegWnaXrtU+PmK+cI6ThDp4DaFO1PJ9CY927ixWJV+DIhrrZImsrUiiOrLeAk3Llnz1Ze/DqYTva3Jkj+TUkvVbD3I3nMvm0b1gTtLzLeGDjvDNJjc1B0XGTw5mzL49SoObhpfWzs5sCvRrAzdJyZ4BVVQHGnme3Llk8TBavobK4ZfnOZXGe2ycF8p/jSeWUNN7Z4TfOkky8jH6YQS8JzKvX0TeaMM7b7OExa+7JwTYq6hSQfn5DOMyUfY8cZtjNuAnHKrw0k2Zy/FXU+p/klFRu6uqvPbxRNpZNrcme1BZzCce5ZmzhTsPfDwIhDxQ04+exguZpoZ/ZczN2/1pxxhjZTcaTgh6gR6MxiVq7KKb5RTEjhTDPbm6OcK1x1IB/nN6NInVaL/2+TVF/7qEprOuimcsH/kV2gaB9eFidYVuNw5Axrn8ETcHap/E2J0Rw4w05NuEU0c5VJCdJUmsOstoATOM49a+eMJf3SoLlnsTOBX+V23D0UImcym3Vc/ErKZKMdgc5Y4owm+s2JklQ6Qx93mln0eC5Vffmx7wKBYJ6PLBmn27NzwHA7Xe7/ppcI4SGYOJTOrH1J7KwzHKU5zmoLDI7j3LODO+Mg9yzjDIpdtaoIOoNmXWbk+h0FbRznGlHOoHgSYF6mgjPNbFv1/TImjJDl52SLxvvhtY1YDrReQuML+ZlK0pSo9lmcGThp7bM64yirLeAMjnPPDu6MCa6+WWAM7u/pzn+JIk/BkU3ypLuonJHuDB1qXvDFoYYzzWxV4jt/ZbK5UrqbSvGf/HDTZyVuxUmNkTNVBkNN0Y/hXlP/h+wM1c8ZdqJXC7b7OEpay+UMKzUuD2e4s9oCTuIw9yxVi5p+9M+6J/j3p3OGXhEA9dlMrzpwRs2coh/DMW+GQ41pQNw/zSwKL+ZpMTyZZkoby0rc2qNO3yCexSSA3al8b54US2XnDHt/yza7fRwkreVyhp0al4czXFltAR44yD1L1V2JDw0MRFGod0Bn+mF1Bq88ExIYfU7HLHnE7UzosVLOYuDfAQBAP4a/bwYAowsnnUlISABnAAADzgAAP8AZAOAHOAMA/HCFM/ADP2PvB5yBH/jh9zNUzgDA7wxwBgD4Ac4AAD/AGQDgBzgDAPyAdc4AgB/gDADwA5wBAH6AMwDAD3BmUGqO+L76z7Q6V5zK8iVQyy/AyMMlzozu3LPgDGCDi5wZzblnwRnABlc7gxmm3LMURZaqwpehwgjBTN/QNA0d6+hUGFGJIT44bey8t+MuMBliO4qSmIot9Nu0zmuqnTN58vkzJIEBolf+5Jfeji9nlTlZx40ooeea/B6KKtnl9VpAXBxTyFy/pOv2zwiOqwBnRgUud2b4cs/25m8VCVYdxKroLskWmXbAKWTd/648U0mSHUWxPkxeQkPuRuFMn8RCnFc2J3454d7PGc+/eIX+qNHj7p9DZ6b8TZKAnDdqz4eL7K3jvApwZlTg6vHMMOaepQyPH1ab8oz3ZX/iJqK9pePMYS0T4nAKWWlOT29O2DRrk+Xom7FTOjl2ZtbqbHP2JpmHe3QhuwTOqwBnRgWujjPDmHsWhZeriRve85qPDpwvdP8Lyxl2mrIPcnq6VGtNmZoxQ+IM51WAM6MCl/fNhi/3bEPah+6mDJ0UlS2f6tgZFGdMr2IGc6b6sI91tOakM9xXAc6MCoZhDmC4cs+aS9a3VV/PkL4xQJyhyNxwoYckC0eabk16gKD/eIblDHlho8BjpaqCJA0VWZsWuM11whnuqwBnRgXDMW82TLln0Wg7ye8fM+hzRceF+XqF4lk1TmdM82YerwpFf5esD+CaN7M6Q1GVqlAfPNE39x/STQFCD2f6ZpxXAc6MCuDfAQAAP8AZAOAHOAMA/ABnAIAf4AwA8AOcAQB+gDMAwA9wBgD4Ac4AAD/AGQDgBzgDAPwAZwCAH+AMAPADnAEAfoAzAMAPcAYA+AHOAAA/wBkA4Mcw5GpC2CdhGRjt9aOJ5x4Mvp+LqclN+fYXUx7D50BF1r+OFbUwJR+XvP7PtIpBDgCGieHIB/A0hwefGHFfjr8aLpy/vqjnOZVGnpPONGUGpKhGdUGxdqRdL2BiGJ3hygRLkZasGmjjUXWnXiX1ELjjTIKCRZ/i3BRMuloPtMNscWAi82CuPrycWLRa5uNBLPrsVk64cOaKrGa6tNZzUo/xyqvWc7L2lKt7KbLkhHz5fIH7ZOGiD1J+ZfIF9qh/2uDricqfLloarCpjUknZ58hVJy8XuKNqoS1vmBs6DU6d8bZUuljgvjCl4pLMY3Z0MfOCPu3DF3xTmXQf48WKb+TLPYiJk4VLNuLMITdivGa54wTwgqk4z47uuK+AztpB5/RQKt+j75JImlqQf2yD2JNwI2aJQ1XmEMeVvxcYQpAma9asWbt2raud4cwE21O0y1uwNLII/dp6N3H1K0yKWnacUSf7CBahdtZFkRVZm1AJR1ArwfljBUyqWGTdTeWCl6U4KxqdRUkky2eFAps9W/Nkoml+qcWGvnZNepCQSYVTniyeviixWI/b4tbFxNIEVD5XjlwHcQannH1FisrErjlyhnCb559VpicNZSl+04QKOpEaO86wnZnsLk0vM/R1V5/eKJr0oij4qEZPkuUZfnP/jUkNx103YAgZhvHMi0wWIq5MsEwWVnOWwPJfUk7iHGUsZ+6x09VSupMSAXqc2+Zboqj8aBGdpak3RzlbZJvxiL2n4USAKXMnXUelNx2RcAbA1+SZxXgfslWr1TvIkevYGZsUTZzOWNNK0Tk46fo4coZd2izLOBCV9mcJLs1B3YAhZBj7Zv0zwZKXpDNnxRVzHW5yBu1gaYWUJc+YnTN02uUVWXXo1Wnsjhll64wm+S3bmYk/MI1Pm5sqf89bOGO2eLUyC/fNHOTIdb0zHKU5qBswhAybM5yZYG2z0baW56vrScouzrwgs8aZ4xKBR2K/OEPvNslv80ZRvzbN3hM/lemulw26R+oqJvw1Fe1aJvBCwx7OHLnOOJMn82RHhqFwxkHdgCFk2JzhzARLZ6NdEa9GI/vWsrTg2aIovGwLblgrkqu7mKJ8BEs+y6+nZws2o52T6fGMnTOUOm6Bm9sLIkWBbUVs99Sd9BPOlqbjbhipK0yJ3J3fQhkubBR6rFSVdpmyzorCino4c+Sao1mz7QlsnGGu8Yahy6i9Hi+Z88cBnUEhFEVFWlcezjioGzCEDF/fjDMTLB7Zb2GmiTwlCvNkGhryvk4Qc5nRfF32dmaaaLY4ELdyiuJwhh6Ls9PDmrDb03A7VfaWB0FMEQi9Zck36O0dRanrxJ6oBpOFSyyTaRw5cinybqIE7TbPpjNp4wy6xnjJQnc3t+miFWEynwHjDNWZE+MjcP8zXjSBhzMO6gYMIWP13wGUJ4sXhj23D08AwMpYdIY0VKpC/9Mr5vZwVwQYkyBNsndv+Fk0Z8w4gz/H/Jto9a4ifktDA4CTIE1S30t49HgsxRkAGEqQJqfPV42tvhkADCVIk5xb1eAMADiL1ZmVK1eCMwAwKFZn7t27B84AwKBA3wwA+AHOAAA/xuJnmgAwlIAzAMAPcAYA+AHOAAA/wBkA4Ie9MzoAAAYE4gwA8AOcAQB+gDMAwA9wBgD4Ac4AAD+QJsoi+M4ZADgNOAMA/LA6k5CQAM4AwKCAMwDAD3AGAPiBNJHngzMA4DRIk79uqawGZwDASZAm7uNrxk1oBGcAwCmsn2mCMwDgDMPrjO3KEwAwGnCVM4aSTOX73kL3CaZ1Y5ilU0aXMzW5Kd/+wqyLZjizTij+XP1cVuFjFQuMBlzjTPlhyZzpfvuuVutJUleqCp0vWLoPL/s4upxhLwbYWp5fVEn2DXIE72KBUYBLnMmPFgpWHbeuQ4YX5aPXmkXOTFumjGXWLZvrl3SdaYXa3Hi/f9DLjy16N/Eas9JYnny+SBa7XbJwhhsx1Ss4jVlplSw/K38X7TlJuFSuXPu6eZXm7urzeE966a+tOfU2lak+vJxYtFrm40Eskqt7ORcP4ziXOnm5wN3dzQ3V843EUoo8G0R40XEGL0X2gVLJrM0mkqYW5B/bIPYk3IhZ4lCVKXq03k3Z6CN0J4i5YnlGKds0VrGLEm+ek3qMV17tMlfmr14JmurU5cSSQPlKb5FQwLobFFlyQr58vsB9snCRZTE2wDW44t81N6SsfJF73Xq8gt/fJAm52i6j9ny4aCq9IF7NcclcD+UFvFgkalKEiHkG58k9XxauSVG3kOTjE9J5zEq0VYnvTBSF/lDd9cRQckL2hmkVdfJOjNcsn8TCeoqsz9okEqxRaW2WO1/uJkCvNpAk5WDBPc5z2QQEG2cmu0vTywx93dWnN4omvSgKPqpB4bQ8w2/uv9Grw+pV0jmiYFRJynA7WTKn38LU1mK7smTThIrLWCq8jDtekhYbLpRk4ZuH1/cUekhzOpCEeTLRNL/UYkNfuyY9yLQRcBGucKY6zuffJen1HK/YrwxOr3JM6qo1eLlmTHmyePrbKrzOq2lZc5oulT8t4eMj4ldpzWjylXNoZ3pzlNOEpoBDlzD73WxWk7JdUtNRnOl3LsqxM+xLmMVeqPnPElTa4yO+1kr2ZcunWBbTNMEq1nAhSODxSX4HZTgRIKBXLbet7U3lAjf5Vfwqa01ztdJ7vN2S7sBQMuxxpr8zVLv6p0i/d7xFGNTj4XJm7UvipErqNru9WpxBrdzNBsLqFfUUzuBzOe2MfWkN1J0o0WR2bV60+szAHs+QqAQkQEuWzKSWbW2rEt/6ozSzW5P8lttEdpl/kJ6B5c5dhku+c5YfPVewhjWeaT0nnbcosdiBMzeihJ7MauOO4wzTjm0e4RZn0LPc3Wu7w8U0bVthnsyTHRmeuzP1dKDrtyQ6G5s5gN6csLnC4AjpHNwxs68tiSqG44w2831iaQJMtQ0TrvmeZvkR3zlzpKmF2i6KNJRmKbyZjgenMyTunyBnDAbtg+ztbxHujp2hqlJWunmFnsJDhUfW8YwhN1zoQY9n8Grm30fH/Ww7nrF9cr/zV3HUDQMaUF2Pl8z540DO3Nkimmlq/TycwZV8xSv0B7xuO1mXHS9Pu2sbE1jF4pJR5SdNcDN3vejxzDtpd/V4Efak5QIhPXTBkyizpeloPIN6soUpkaY13wGX4KrvNhtup+N5HtSjePU/fddzfj5j6ZtVZCmW0bNM3rJ9X/otFqfgJ66DdlxDz5tNnCxcIpMtswxjetQ/fea7APXr0PbViddshlK2zlCGG/GShe5ubtNFK8JkPgPGGfJuogSVOQ8N4vk4g5r4tbh13viKBK/5hqZp7BbHZRVL/4nO/ifLmIee5QuUr5wvcGfPIqL7mSp7i55aFHrLkm8YnsusN+AUeD3NmJWiSX8Z9d/T7MuSDdQlGz3ci15s6phR/QwHRgBIkz/+r1l+SadHpTOd2XKxPBN/4mG4He87e5r5w41RC9mkTg0Qrki2jFXAmZEH0mR8zNVRmw/AUEJ3+VC/RegjO3zn+XwwP2w0pKxEHbD300qt5oMzIw+kyfvnKketMwDgcsAZAODHKO+bAYDLQZr84d89R+scAAC4nrEz1wwArgHyNQMAP8AZAOAHOAMA/ABnAIAf4AwA8AOcAQB+gDMAwA97Z57D8ukAMKahnbke+/r/hjgDAE5BO3P/dEQAOAMATgHjGQDgB9JkHOZ/gjMA4BQwngEAfoAzAMAPcAYA+AHOAAA/wBkA4Ac4AwD8MM81jwNnAMAp4DNNAOAHOAMA/ABnAIAf4AwA8MMlzqh3L3ab6Ca3S9pfc8T31b8SazJGeWJyK/nRloWjgTGM65z5D5vlAemNxMQx5Qz5OD//4ShfzAMYHBc54y1Y4e87659ploVoyZtKb4Gfn4/ZmY6i1A1izxkEMV20QpFdSe9TssvrtYC4OH+vmQQhmOuXdJ2xS5sb7/cPeokv1rpfZDm94BkxSbhUrlxred4358Qzh3tKFD/bL0Cpuxb30WKB+wRCsMAvJte0fmDr3ZSNPvQqa2J5RilzRsPtw9K3PIiJUwTzlkafZa6hPivqPbxCLjFLHJxYRC/NZ17Qk8Lrkp+OlCykL2fpetNigA4uh6twYCTjMmeCf1AFE+IY05J3hjNBAq8vsw6YnMFrfIv8syq6KLIyLXC6IPgkbk+okU35myQhV9tl1J4PF02ll5utOS6Z66G8UI8XAExeToiY1VurEt+ZKAr9obrriaHEurCm5vAywZKQnHqS1F2LXjrJdu3ovmz5NFGwSovX4szwmztRfgG1bL1KOkcU/ANeoPN2smTOLHq9vnvRiyf4pSJ/uqtPbxTNxOt7ajMDCK9P8CqWrffiVriJovD6ahZnyBtbRDP/EXe1nqTa1d8HCD38spsdXA5X4cDIxlXOEGtUhutbRPM/ye+g6LUmJ0pSa9S7vE1xpvWxpsEUMbQZ5kWJOVfbJHXVGtQWaSyrOtccEXMs4KyJXvySZRFwvNbxiiStNdT05ijnClcdyK/EO5A6LZKHHmJZykFSMQuOa6LfnOIbc16DK/jEoG1APUzDmQCB6CPVr3RNWrVaQxdls3D0NNaC5sjnP/ml6x0sHspRODCycZkzq1INfQ/j3iSkZ/SW5b/VcfNNzpAV2fEf+3qLMMIpbm87dgY9uX+K9HuH2RV1fmhnbBaCtbTdS7JZbizGE+bFkE20lqq+/Nh3gUAwz0eWTPfN7kSJJrMPMcUrsvxC3Ib3vDxQR+vDOFP3qaPo+0g/Hw+BcKFE8a1t3ww9EV5kxbS+rLUvixNKHVwOZ+HASMalzlDV6e8LVhzMikTjjctIFYsz6t0+ghX71XTLM5wYMM7ciBJ6rlQxq+ex4owvR5xRK72ZHhcnbdX3y7T0i2T5Odmi8X6ZVpltIHWa+5X0499YfWWL17SFKRWU4fE9TQP9amtZWuAcYWg2ugpWnJkqUhSYjx8wznAVDoxskCbfHd+8L0TkEmeo1nNSDzxuZtb1tjiTHy2knWnVPrqauErgxgQErkZGopGPB3LGYNA+yN7+FuHODACqUla6eYWewuOQR5bxTE9RrLdgaXgO7n21a05vjc5gt0fUlP8qjqLDi+6mUoyadT1dziteoT/g5cjJuux4edpdktKd9BMK5Gcq8birJN53ujCllCqKFQlWxGPJyfqsTXMFwWxnmPGMOKVYjycDfgqyjmf6O8NVODCyQZooopPu17kmzqBRRP5WIfH/TOsSW/tmuovRHywgiMnCRQFxcRu8xJF4ZM/dmanIUiyj57W8Zfu+9FssNjWyGnrebOJk4RKZbJllOFGXvf09PE9FTPVabZ6OM0OWn1W+P1/gzsyqqUyzarprceu8cfmC13xD07A87Jk64ZtyZqVbsiwtfBk9b4ZK3ppTj3ezmTf7iT1vRg/VHPTNOAoHRjRIk2+vVo2pfwfQlyVz99p+e7irAYxVkCaq+9XYmZUrV45eZzqz5WJ5Jv44xXA73nf2NOVV+GwRGCKszty7d2/0OoMGA+ny5aijhXo4PjLo4QBDiNWZMdM3A4AhBZwBAH6AMwDAD/j+DADwA5wBAH6AMwDAD3AGAPgBzgAAP8AZAOAHOAMA/ABnAIAfSJNrRfCZJgA4DTgDAPwAZwCAH0iTnJhb2eNvgjPPCda3NYExCdIkfe4tdV7duISEhKFx5k6MOZeXmdZLMo+XpZmthjPrhOLP1b0ODx1aanJTvv2F+Urzc6wJODPWQZqcPV6J+2ZD5gz1MO7NF3xTrfkrcEJAD2lOB5KnPL+octi+H3Y1XDifSSn4PGsCzox18Hgmv3ponaGqDy83pV/CdGXJpjK5msizQYSX6elOlpygv2g5Wbjog5Rf9RR1U7lgqpLOMkHpjksE0xOZXBk4ndK72R22hS9aLfPxIBbJ1b0ogs2OLmZe0ad9iFytp6g8+XyRLHa7ZOEMN2KqV3CappdSJy8XuLu7uRGE4A1UsrUmOFXaB0olnVdWIJKmFuQf2yD2JNyIWeJQc54Nrvy0FljO0JlvcZ6d2eJAU35aCifNQDVBBb4iDvxC9o8/SM/gjZCBdvTgEmfoRm/O3NV6zk9oytVkbamteTLRNL/UYkNfuyY9SIijkCWNJU6BKXB/2fR7xnuC1ansZJPIGTeBT2JhA4lzWjpwxvNl4ZoUdQtJPj4hnfeCjEmuyYozNs5MdpemlxmYZLCTXhQFH9XoSbI8w2/uvznOT2vF4ow62UewaGN2ZRdFVmRtEglWHcHK4eRMr0jRlXa1VZ/f4jWNcQYy0I4iXNE3Q3Sp1prSJRtOBAjM+SwtLRVtZCW5VCu9xyuv4jGGAGeLRcfOkseGi3xRpOrLkk2UpNazi64+vIxYYbHIUZwxhyxUE39zkktHzrAzKs0yZVSiS/szPvVjzvy0VszO3GNnvkWqME8NfKVeloET6rUyzkAG2lEEPQdw+/5QzgHQGC5sFIqRFeghjRq9qe9haama5LfcJrKTvqKWhJPxSeZKsirOSd+Q5jTfVHr/M60C/feNRNusebydWfuS2Hln7EtrcJSf1oIl8610puVYylIHXNtVltpanIEMtKMIPNe8hZ5rHlpnKBI1mv9MvHhcMvdtlXkOzdJScQJy64DHQkPKyunSTetE60+Sfb05Sk/JpnAvb/vZLVtn8mSe7Mjw3J2p585Py4IVZ8ydQIrpnXokVthFVLMzkIF2NGH992ZD7AyF87XiDOZrsiwdD2tLxb382dJ0NJ5B7acwJXJ3Pj1iRvGHmPiyNBN3WcjccOGkF1h5kE3YOsNklL1h6DJqr8dL5vxxIGfubBHNNLV+Hs5w5Ke1yaVmHc/s9hEs+Sy/nt5ts7dgRbJ5PEOPl7q6reMZyEA7mnChM/QCLDZJx9nzZobbqbK3mBSs3rLkGyYH8Gc75gExiVowR85yW2cow414yUJ3N7fpohVhMp8B4wx5N1EygyDmoUE8H2e489NaYM2b1WVvZ1Zomi0OND0FKOu82VSvNSGS10x9M8hAO3pwpTOAPTeVC9BTYLhrAfADnHEx5M3oD96ns56zlkADRhPw/RlXQy+1uXgGXgRhyerEQv1w1wfgCzgDAPwAZwCAH+AMAPADnAEAfoAzAMAPcAYA+AHOAAA/wBkA4Ac4AwD8AGcAgB/gDADwA5wBAH4wzjQ2No5ramoqAwDACWpra5Ev41paWurr66uqqh49eoS2lpaWPgD4kJ2d/eyF3AFGJMXFxXfv3r1///7Dhw8rKyuRKc3NzePa2tqQOugPFHeQOZUAT3Jycp69kOF+gAIOQbagcILeIxRk0EBGr9f//xGjwoeraKoKAAAAAElFTkSuQmCC)\n",
        "\n",
        "![image.png](data:image/png;base64,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)"
      ]
    }
  ],
  "metadata": {
    "colab": {
      "provenance": []
    },
    "kernelspec": {
      "display_name": "Python 3",
      "name": "python3"
    },
    "language_info": {
      "name": "python"
    }
  },
  "nbformat": 4,
  "nbformat_minor": 0
}